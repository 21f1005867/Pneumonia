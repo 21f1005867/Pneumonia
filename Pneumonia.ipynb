{
  "metadata": {
    "kernelspec": {
      "display_name": "Python 3",
      "name": "python3"
    },
    "language_info": {
      "name": "python",
      "version": "3.11.13",
      "mimetype": "text/x-python",
      "codemirror_mode": {
        "name": "ipython",
        "version": 3
      },
      "pygments_lexer": "ipython3",
      "nbconvert_exporter": "python",
      "file_extension": ".py"
    },
    "kaggle": {
      "accelerator": "none",
      "dataSources": [
        {
          "sourceId": 11981792,
          "sourceType": "datasetVersion",
          "datasetId": 7535550
        }
      ],
      "dockerImageVersionId": 31089,
      "isInternetEnabled": false,
      "language": "python",
      "sourceType": "notebook",
      "isGpuEnabled": false
    },
    "colab": {
      "provenance": [],
      "gpuType": "T4"
    },
    "accelerator": "GPU"
  },
  "nbformat_minor": 0,
  "nbformat": 4,
  "cells": [
    {
      "cell_type": "code",
      "source": [
        "# Import the importatnt libraries\n",
        "import os\n",
        "import numpy as np\n",
        "from torchvision import models\n",
        "import torch\n",
        "import torch.nn as nn\n",
        "import torch.optim as optim\n",
        "from torchvision.datasets import ImageFolder\n",
        "from torch.utils.data import DataLoader, random_split, Dataset\n",
        "import matplotlib.pyplot as plt\n",
        "from torchvision import transforms\n",
        "import pandas as pd\n",
        "from PIL import Image\n",
        "from tqdm import tqdm\n",
        "from sklearn.metrics import f1_score\n",
        "import copy"
      ],
      "metadata": {
        "trusted": true,
        "execution": {
          "iopub.status.busy": "2025-07-08T16:15:56.685113Z",
          "iopub.execute_input": "2025-07-08T16:15:56.685396Z",
          "iopub.status.idle": "2025-07-08T16:16:07.171222Z",
          "shell.execute_reply.started": "2025-07-08T16:15:56.685373Z",
          "shell.execute_reply": "2025-07-08T16:16:07.170272Z"
        },
        "id": "SFvWvqV12z5Y"
      },
      "outputs": [],
      "execution_count": 7
    },
    {
      "cell_type": "code",
      "source": [
        "# ignoring the warning messages\n",
        "import warnings\n",
        "from IPython.display import display\n",
        "warnings.filterwarnings('ignore')"
      ],
      "metadata": {
        "trusted": true,
        "execution": {
          "iopub.status.busy": "2025-07-08T16:16:07.172957Z",
          "iopub.execute_input": "2025-07-08T16:16:07.173381Z",
          "iopub.status.idle": "2025-07-08T16:16:07.177896Z",
          "shell.execute_reply.started": "2025-07-08T16:16:07.173359Z",
          "shell.execute_reply": "2025-07-08T16:16:07.176884Z"
        },
        "id": "lCdYJ4672z5Z"
      },
      "outputs": [],
      "execution_count": 8
    },
    {
      "cell_type": "code",
      "source": [
        "torch.manual_seed(42)\n",
        "# batch size for all the future processes\n",
        "batch_size = 32"
      ],
      "metadata": {
        "trusted": true,
        "id": "jpfyCjwg2z5Z"
      },
      "outputs": [],
      "execution_count": 9
    },
    {
      "cell_type": "code",
      "source": [
        "data = np.load(\"/content/pneumoniamnist.npz\")"
      ],
      "metadata": {
        "trusted": true,
        "execution": {
          "iopub.status.busy": "2025-07-08T16:00:18.355343Z",
          "iopub.execute_input": "2025-07-08T16:00:18.355831Z",
          "iopub.status.idle": "2025-07-08T16:00:18.408354Z",
          "shell.execute_reply.started": "2025-07-08T16:00:18.355777Z",
          "shell.execute_reply": "2025-07-08T16:00:18.407640Z"
        },
        "id": "8mYNVpeH2z5a"
      },
      "outputs": [],
      "execution_count": 10
    },
    {
      "cell_type": "code",
      "source": [
        "train_images, train_labels = data[\"train_images\"], data[\"train_labels\"]"
      ],
      "metadata": {
        "trusted": true,
        "execution": {
          "iopub.status.busy": "2025-07-08T16:09:43.751963Z",
          "iopub.execute_input": "2025-07-08T16:09:43.752260Z",
          "iopub.status.idle": "2025-07-08T16:09:43.782407Z",
          "shell.execute_reply.started": "2025-07-08T16:09:43.752237Z",
          "shell.execute_reply": "2025-07-08T16:09:43.781252Z"
        },
        "id": "clDLZ0Rj2z5b"
      },
      "outputs": [],
      "execution_count": 11
    },
    {
      "cell_type": "code",
      "source": [
        "val_images, val_labels = data[\"val_images\"], data[\"val_labels\"]"
      ],
      "metadata": {
        "trusted": true,
        "execution": {
          "iopub.status.busy": "2025-07-08T16:10:34.404045Z",
          "iopub.execute_input": "2025-07-08T16:10:34.404302Z",
          "iopub.status.idle": "2025-07-08T16:10:34.412973Z",
          "shell.execute_reply.started": "2025-07-08T16:10:34.404285Z",
          "shell.execute_reply": "2025-07-08T16:10:34.412183Z"
        },
        "id": "bd5krgcT2z5c"
      },
      "outputs": [],
      "execution_count": 12
    },
    {
      "cell_type": "code",
      "source": [
        "test_images, test_labels = data[\"test_images\"], data[\"test_labels\"]"
      ],
      "metadata": {
        "trusted": true,
        "execution": {
          "iopub.status.busy": "2025-07-08T16:10:32.231453Z",
          "iopub.execute_input": "2025-07-08T16:10:32.231723Z",
          "iopub.status.idle": "2025-07-08T16:10:32.242271Z",
          "shell.execute_reply.started": "2025-07-08T16:10:32.231707Z",
          "shell.execute_reply": "2025-07-08T16:10:32.241177Z"
        },
        "id": "qPWY3fgY2z5d"
      },
      "outputs": [],
      "execution_count": 13
    },
    {
      "cell_type": "code",
      "source": [
        "train_images.shape"
      ],
      "metadata": {
        "trusted": true,
        "execution": {
          "iopub.status.busy": "2025-07-08T16:09:03.433404Z",
          "iopub.execute_input": "2025-07-08T16:09:03.433944Z",
          "iopub.status.idle": "2025-07-08T16:09:03.438972Z",
          "shell.execute_reply.started": "2025-07-08T16:09:03.433920Z",
          "shell.execute_reply": "2025-07-08T16:09:03.438315Z"
        },
        "colab": {
          "base_uri": "https://localhost:8080/"
        },
        "id": "1oiE5fGb2z5d",
        "outputId": "1e14aaf0-6995-45c4-c2d0-9eddfdb4b899"
      },
      "outputs": [
        {
          "output_type": "execute_result",
          "data": {
            "text/plain": [
              "(3882, 28, 28)"
            ]
          },
          "metadata": {},
          "execution_count": 14
        }
      ],
      "execution_count": 14
    },
    {
      "cell_type": "code",
      "source": [
        "train_labels.shape"
      ],
      "metadata": {
        "trusted": true,
        "execution": {
          "iopub.status.busy": "2025-07-08T16:09:48.183742Z",
          "iopub.execute_input": "2025-07-08T16:09:48.184065Z",
          "iopub.status.idle": "2025-07-08T16:09:48.190856Z",
          "shell.execute_reply.started": "2025-07-08T16:09:48.184044Z",
          "shell.execute_reply": "2025-07-08T16:09:48.189784Z"
        },
        "colab": {
          "base_uri": "https://localhost:8080/"
        },
        "id": "RlIy5xcl2z5e",
        "outputId": "729e33fe-f505-4c64-bd66-034638e4c976"
      },
      "outputs": [
        {
          "output_type": "execute_result",
          "data": {
            "text/plain": [
              "(3882, 1)"
            ]
          },
          "metadata": {},
          "execution_count": 15
        }
      ],
      "execution_count": 15
    },
    {
      "cell_type": "code",
      "source": [
        "val_images.shape"
      ],
      "metadata": {
        "trusted": true,
        "execution": {
          "iopub.status.busy": "2025-07-08T16:10:10.165069Z",
          "iopub.execute_input": "2025-07-08T16:10:10.165339Z",
          "iopub.status.idle": "2025-07-08T16:10:10.172639Z",
          "shell.execute_reply.started": "2025-07-08T16:10:10.165321Z",
          "shell.execute_reply": "2025-07-08T16:10:10.171218Z"
        },
        "colab": {
          "base_uri": "https://localhost:8080/"
        },
        "id": "tovpaBu62z5e",
        "outputId": "bc0bcd02-7066-4335-9aa7-bc91f7bccf37"
      },
      "outputs": [
        {
          "output_type": "execute_result",
          "data": {
            "text/plain": [
              "(524, 28, 28)"
            ]
          },
          "metadata": {},
          "execution_count": 16
        }
      ],
      "execution_count": 16
    },
    {
      "cell_type": "code",
      "source": [
        "val_labels.shape"
      ],
      "metadata": {
        "trusted": true,
        "execution": {
          "iopub.status.busy": "2025-07-08T16:11:22.868334Z",
          "iopub.execute_input": "2025-07-08T16:11:22.868605Z",
          "iopub.status.idle": "2025-07-08T16:11:22.873963Z",
          "shell.execute_reply.started": "2025-07-08T16:11:22.868573Z",
          "shell.execute_reply": "2025-07-08T16:11:22.873153Z"
        },
        "colab": {
          "base_uri": "https://localhost:8080/"
        },
        "id": "RFSpOLsb2z5f",
        "outputId": "a85a0f5e-fd34-4c5d-b437-4e82cc7daec1"
      },
      "outputs": [
        {
          "output_type": "execute_result",
          "data": {
            "text/plain": [
              "(524, 1)"
            ]
          },
          "metadata": {},
          "execution_count": 17
        }
      ],
      "execution_count": 17
    },
    {
      "cell_type": "code",
      "source": [
        "test_images.shape"
      ],
      "metadata": {
        "trusted": true,
        "execution": {
          "iopub.status.busy": "2025-07-08T16:11:03.323940Z",
          "iopub.execute_input": "2025-07-08T16:11:03.324240Z",
          "iopub.status.idle": "2025-07-08T16:11:03.329154Z",
          "shell.execute_reply.started": "2025-07-08T16:11:03.324218Z",
          "shell.execute_reply": "2025-07-08T16:11:03.328619Z"
        },
        "colab": {
          "base_uri": "https://localhost:8080/"
        },
        "id": "7rMF33dM2z5f",
        "outputId": "913b0096-8a80-499c-d876-5b237cb07e11"
      },
      "outputs": [
        {
          "output_type": "execute_result",
          "data": {
            "text/plain": [
              "(624, 28, 28)"
            ]
          },
          "metadata": {},
          "execution_count": 18
        }
      ],
      "execution_count": 18
    },
    {
      "cell_type": "code",
      "source": [
        "test_labels.shape"
      ],
      "metadata": {
        "trusted": true,
        "execution": {
          "iopub.status.busy": "2025-07-08T16:11:37.006700Z",
          "iopub.execute_input": "2025-07-08T16:11:37.007042Z",
          "iopub.status.idle": "2025-07-08T16:11:37.014573Z",
          "shell.execute_reply.started": "2025-07-08T16:11:37.007022Z",
          "shell.execute_reply": "2025-07-08T16:11:37.013181Z"
        },
        "colab": {
          "base_uri": "https://localhost:8080/"
        },
        "id": "x3_9YRzN2z5f",
        "outputId": "b2bf8002-1a58-4547-bbe3-18090e1a66f2"
      },
      "outputs": [
        {
          "output_type": "execute_result",
          "data": {
            "text/plain": [
              "(624, 1)"
            ]
          },
          "metadata": {},
          "execution_count": 19
        }
      ],
      "execution_count": 19
    },
    {
      "cell_type": "code",
      "source": [
        "class ImageDataset(Dataset):\n",
        "    def __init__(self, images, labels, transform=None):\n",
        "        self.images = images\n",
        "        self.labels = labels\n",
        "        self.transform = transform\n",
        "\n",
        "    def __len__(self):\n",
        "        return len(self.images)\n",
        "\n",
        "    def __getitem__(self, idx):\n",
        "        image = self.images[idx]\n",
        "        label = self.labels[idx]\n",
        "\n",
        "        # Convert image to torch tensor\n",
        "        image = torch.tensor(image, dtype=torch.float32)\n",
        "        label = torch.tensor(label, dtype=torch.float32)  # if using BCEWithLogitsLoss\n",
        "\n",
        "        # Ensure image has shape [1, H, W]\n",
        "        if image.ndim == 2:\n",
        "            image = image.unsqueeze(0)\n",
        "        elif image.ndim == 3 and image.shape[-1] in [1, 3]:\n",
        "            image = image.permute(2, 0, 1)\n",
        "\n",
        "        # Convert 1-channel grayscale to 3-channel RGB by repeating\n",
        "        if image.shape[0] == 1:\n",
        "            image = image.repeat(3, 1, 1)\n",
        "\n",
        "        if self.transform:\n",
        "            image = self.transform(image)\n",
        "\n",
        "        return image, label\n"
      ],
      "metadata": {
        "id": "gAx7vJVg4DYl"
      },
      "execution_count": 20,
      "outputs": []
    },
    {
      "cell_type": "code",
      "source": [
        "transform = transforms.Compose([\n",
        "    transforms.Resize((299, 299)),         # Resize to match InceptionV3 input size\n",
        "    transforms.Normalize(mean=[0.5]*3, std=[0.5]*3)  # Normalize to [-1, 1] range (optional)\n",
        "])"
      ],
      "metadata": {
        "id": "bm-WNgdf91nl"
      },
      "execution_count": 21,
      "outputs": []
    },
    {
      "cell_type": "code",
      "source": [
        "train_dataset = ImageDataset(train_images, train_labels, transform=transform)\n",
        "val_dataset = ImageDataset(val_images, val_labels, transform=transform)\n",
        "test_dataset = ImageDataset(test_images, test_labels, transform=transform)"
      ],
      "metadata": {
        "id": "rdrI4abP4Ow3"
      },
      "execution_count": 22,
      "outputs": []
    },
    {
      "cell_type": "code",
      "source": [
        "# Data loader\n",
        "train_loader = DataLoader(train_dataset, batch_size=batch_size, shuffle=True, num_workers=4)\n",
        "# Validation loader\n",
        "val_loader = DataLoader(val_dataset, batch_size=batch_size, shuffle=False, num_workers=4)"
      ],
      "metadata": {
        "trusted": true,
        "id": "l2xDggVT2z5f"
      },
      "outputs": [],
      "execution_count": 23
    },
    {
      "cell_type": "code",
      "source": [
        "test_loader = DataLoader(test_dataset, batch_size = batch_size, shuffle = False, num_workers=4)"
      ],
      "metadata": {
        "id": "XayoFQPt4cL4"
      },
      "execution_count": 24,
      "outputs": []
    },
    {
      "cell_type": "code",
      "source": [
        "def train(model, train_loader, val_loader, criterion, optimizer, device, epoch, num_epochs, scheduler, threshold=0.5):\n",
        "    model.train()\n",
        "    running_loss = 0.0\n",
        "    num_correct_preds = 0.0\n",
        "    total_preds = 0.0\n",
        "    train_preds = []\n",
        "    train_labels = []\n",
        "\n",
        "    with tqdm(total=len(train_loader), desc=f'Epoch {epoch+1}/{num_epochs}', unit='batch') as tepoch:\n",
        "        for images, labels in train_loader:\n",
        "            images = images.to(device)\n",
        "            labels = labels.to(device).float().squeeze(1)  # ✅ Force shape: [B]\n",
        "\n",
        "            optimizer.zero_grad()\n",
        "\n",
        "            # InceptionV3 returns (main_output, aux_output) during training\n",
        "            main_output, aux_output = model(images)\n",
        "            main_output = main_output.squeeze(1)\n",
        "            aux_output = aux_output.squeeze(1)\n",
        "\n",
        "            # Compute losses\n",
        "            loss_main = criterion(main_output, labels)\n",
        "            loss_aux = criterion(aux_output, labels)\n",
        "            loss = loss_main + 0.4 * loss_aux  # Combine main and auxiliary loss\n",
        "\n",
        "            loss.backward()\n",
        "            optimizer.step()\n",
        "\n",
        "            running_loss += loss.item()\n",
        "\n",
        "            # Predictions from main output\n",
        "            probs = torch.sigmoid(main_output)  # shape: [batch_size]\n",
        "            preds = (probs > threshold).long()\n",
        "\n",
        "            train_preds.extend(preds.detach().cpu().numpy())\n",
        "            train_labels.extend(labels.detach().cpu().numpy())\n",
        "\n",
        "            num_correct_preds += (preds == labels.long()).sum().item()\n",
        "            total_preds += labels.size(0)\n",
        "\n",
        "            tepoch.set_postfix(\n",
        "                loss=running_loss / (tepoch.n + 1),\n",
        "                accuracy=f\"{(num_correct_preds / len(train_loader.dataset)) * 100:.2f}%\"\n",
        "            )\n",
        "            tepoch.update(1)\n",
        "\n",
        "    scheduler.step()\n",
        "\n",
        "    f1 = f1_score(train_labels, train_preds, average='weighted')\n",
        "    train_accuracy = (num_correct_preds / total_preds) * 100\n",
        "\n",
        "    return train_accuracy, running_loss / len(train_loader), f1\n"
      ],
      "metadata": {
        "id": "FYGCAtZS4yuC"
      },
      "execution_count": 25,
      "outputs": []
    },
    {
      "cell_type": "code",
      "source": [
        "def validate(model, val_loader, criterion, device, threshold=0.5):\n",
        "    model.eval()\n",
        "    running_loss = 0.0\n",
        "    num_correct_preds = 0.0\n",
        "    total_preds = 0.0\n",
        "    val_preds = []\n",
        "    val_labels = []\n",
        "\n",
        "    with torch.no_grad():\n",
        "        for images, labels in val_loader:\n",
        "            images = images.to(device)\n",
        "            labels = labels.to(device).float()  # ✅ Force shape: [B]\n",
        "\n",
        "            outputs = model(images)  # shape: [batch_size]\n",
        "            loss = criterion(outputs, labels)\n",
        "\n",
        "            running_loss += loss.item()\n",
        "\n",
        "            probs = torch.sigmoid(outputs)\n",
        "            preds = (probs > threshold).long()\n",
        "\n",
        "            val_preds.extend(preds.cpu().numpy())\n",
        "            val_labels.extend(labels.cpu().numpy())\n",
        "\n",
        "            num_correct_preds += (preds == labels.long()).sum().item()\n",
        "            total_preds += labels.size(0)\n",
        "\n",
        "    f1 = f1_score(val_labels, val_preds, average='weighted')\n",
        "    val_accuracy = (num_correct_preds / total_preds) * 100\n",
        "\n",
        "    return val_accuracy, running_loss / len(val_loader), f1\n"
      ],
      "metadata": {
        "id": "fqgmFVF_7Kws"
      },
      "execution_count": 26,
      "outputs": []
    },
    {
      "cell_type": "code",
      "source": [
        "import torch\n",
        "import copy\n",
        "\n",
        "def training_model(model, train_loader, val_loader, criterion, optimizer, num_epochs, device, scheduler, model_name, threshold=0.5):\n",
        "    best_accuracy = 0.0\n",
        "    best_model = None\n",
        "\n",
        "    for epoch in range(num_epochs):\n",
        "        # train the model\n",
        "        train_accuracy, train_loss, train_f1 = train(\n",
        "            model, train_loader, val_loader, criterion, optimizer, device, epoch, num_epochs, scheduler, threshold=threshold\n",
        "        )\n",
        "\n",
        "        # validate the model\n",
        "        val_accuracy, val_loss, val_f1 = validate(\n",
        "            model, val_loader, criterion, device, threshold=threshold\n",
        "        )\n",
        "\n",
        "        # Save the best model based on validation accuracy\n",
        "        if val_accuracy > best_accuracy:\n",
        "            best_accuracy = val_accuracy\n",
        "            best_model = copy.deepcopy(model.state_dict())\n",
        "            torch.save(best_model, f'best_model_{model_name}_epoch{epoch+1}.pth')\n",
        "\n",
        "            print(f'✅ Best model saved at epoch {epoch+1}/{num_epochs} with:')\n",
        "            print(f'   🟢 Train Acc: {train_accuracy:.2f}%, Loss: {train_loss:.4f}, F1: {train_f1:.4f}')\n",
        "            print(f'   🔵 Val   Acc: {val_accuracy:.2f}%, Loss: {val_loss:.4f}, F1: {val_f1:.4f}')\n",
        "\n",
        "        torch.cuda.empty_cache()\n",
        "\n",
        "    return model, best_model\n"
      ],
      "metadata": {
        "id": "wf4x5aRt5VrN"
      },
      "execution_count": 27,
      "outputs": []
    },
    {
      "cell_type": "code",
      "source": [
        "# using the pre-trained model with importing the pretrained weight efficente_v2_m\n",
        "# from torchvision.models import Inception_V3_Weights\n",
        "model = models.inception_v3(weights=models.Inception_V3_Weights.DEFAULT)"
      ],
      "metadata": {
        "id": "L0NkF5fD5dcW",
        "colab": {
          "base_uri": "https://localhost:8080/"
        },
        "outputId": "6ee72a4e-92a8-41b8-c8ab-a41a75032a6d"
      },
      "execution_count": 28,
      "outputs": [
        {
          "output_type": "stream",
          "name": "stderr",
          "text": [
            "Downloading: \"https://download.pytorch.org/models/inception_v3_google-0cc3c7bd.pth\" to /root/.cache/torch/hub/checkpoints/inception_v3_google-0cc3c7bd.pth\n",
            "100%|██████████| 104M/104M [00:00<00:00, 152MB/s]\n"
          ]
        }
      ]
    },
    {
      "cell_type": "code",
      "source": [
        "# InceptionV3\n",
        "model.fc = nn.Linear(model.fc.in_features, 1)\n",
        "model.AuxLogits.fc = nn.Linear(model.AuxLogits.fc.in_features, 1)"
      ],
      "metadata": {
        "id": "Ny2Odaxe500u"
      },
      "execution_count": 29,
      "outputs": []
    },
    {
      "cell_type": "code",
      "source": [
        "# for param in model.parameters():\n",
        "#     param.requires_grad = False  # Freeze all layers\n",
        "\n",
        "# # Unfreeze classifier layers\n",
        "# for param in model.fc.parameters():\n",
        "#     param.requires_grad = True\n",
        "\n",
        "# for param in model.AuxLogits.fc.parameters():\n",
        "#     param.requires_grad = True\n"
      ],
      "metadata": {
        "id": "R0JfmUoXAZHk"
      },
      "execution_count": 30,
      "outputs": []
    },
    {
      "cell_type": "code",
      "source": [
        "device = torch.device(\"cuda\" if torch.cuda.is_available() else \"cpu\")\n",
        "# model = nn.DataParallel(model, device_ids=[0, 1])  # Use GPUs 0 and 1\n",
        "model = model.to(device)"
      ],
      "metadata": {
        "id": "FLG3cI8Z6XWX"
      },
      "execution_count": 31,
      "outputs": []
    },
    {
      "cell_type": "code",
      "source": [
        "# num_epochs = 15\n",
        "num_epochs = 5\n",
        "criterion = nn.BCEWithLogitsLoss()\n",
        "# optimizer = optim.NAdam(model.parameters(), lr=1e-4)\n",
        "# use the optimizer wiht SGD, momentum  and nestrov momentum\n",
        "# optimizer = optim.SGD(model.parameters(), lr=1e-4, momentum=0.9, nesterov=True)\n",
        "optimizer = optim.AdamW(model.parameters(), lr=1e-4)\n",
        "\n",
        "# scheduler for the learning rate\n",
        "scheduler = optim.lr_scheduler.CosineAnnealingLR(optimizer, T_max=num_epochs, eta_min=0.1e-6)\n",
        "# scheduler = optim.lr_scheduler.CosineAnnealingLR(optimizer, T_max=num_epochs)\n",
        "\n",
        "last_epoch_model, best_model = training_model(model, train_loader, val_loader, criterion, optimizer, num_epochs, device, scheduler, 'inception_v3', threshold=0.5)\n"
      ],
      "metadata": {
        "colab": {
          "base_uri": "https://localhost:8080/"
        },
        "id": "dfARXa7w7lmF",
        "outputId": "d890ee9c-5b68-46ad-a546-928ea58bdd59"
      },
      "execution_count": 32,
      "outputs": [
        {
          "output_type": "stream",
          "name": "stderr",
          "text": [
            "Epoch 1/5: 100%|██████████| 122/122 [00:56<00:00,  2.17batch/s, accuracy=94.56%, loss=0.243]\n"
          ]
        },
        {
          "output_type": "stream",
          "name": "stdout",
          "text": [
            "✅ Best model saved at epoch 1/5 with:\n",
            "   🟢 Train Acc: 94.56%, Loss: 0.2429, F1: 0.9469\n",
            "   🔵 Val   Acc: 91.60%, Loss: 0.1889, F1: 0.9108\n"
          ]
        },
        {
          "output_type": "stream",
          "name": "stderr",
          "text": [
            "Epoch 2/5: 100%|██████████| 122/122 [00:56<00:00,  2.17batch/s, accuracy=98.82%, loss=0.0664]\n"
          ]
        },
        {
          "output_type": "stream",
          "name": "stdout",
          "text": [
            "✅ Best model saved at epoch 2/5 with:\n",
            "   🟢 Train Acc: 98.82%, Loss: 0.0664, F1: 0.9881\n",
            "   🔵 Val   Acc: 96.95%, Loss: 0.1019, F1: 0.9690\n"
          ]
        },
        {
          "output_type": "stream",
          "name": "stderr",
          "text": [
            "Epoch 3/5: 100%|██████████| 122/122 [00:55<00:00,  2.18batch/s, accuracy=99.38%, loss=0.0265]\n",
            "Epoch 4/5: 100%|██████████| 122/122 [00:56<00:00,  2.17batch/s, accuracy=99.74%, loss=0.0174]\n",
            "Epoch 5/5: 100%|██████████| 122/122 [00:55<00:00,  2.18batch/s, accuracy=99.97%, loss=0.00892]\n"
          ]
        },
        {
          "output_type": "stream",
          "name": "stdout",
          "text": [
            "✅ Best model saved at epoch 5/5 with:\n",
            "   🟢 Train Acc: 99.97%, Loss: 0.0089, F1: 0.9997\n",
            "   🔵 Val   Acc: 97.14%, Loss: 0.0805, F1: 0.9710\n"
          ]
        }
      ]
    },
    {
      "cell_type": "code",
      "source": [
        "validate(best_model, test_loader, criterion, device, threshold=0.5)"
      ],
      "metadata": {
        "colab": {
          "base_uri": "https://localhost:8080/",
          "height": 263
        },
        "id": "HjenrA6wMmhy",
        "outputId": "da6f6109-6d53-47dc-9d40-43e20ad35ebd"
      },
      "execution_count": 37,
      "outputs": [
        {
          "output_type": "error",
          "ename": "AttributeError",
          "evalue": "'collections.OrderedDict' object has no attribute 'eval'",
          "traceback": [
            "\u001b[0;31m---------------------------------------------------------------------------\u001b[0m",
            "\u001b[0;31mAttributeError\u001b[0m                            Traceback (most recent call last)",
            "\u001b[0;32m/tmp/ipython-input-37-323493367.py\u001b[0m in \u001b[0;36m<cell line: 0>\u001b[0;34m()\u001b[0m\n\u001b[0;32m----> 1\u001b[0;31m \u001b[0mvalidate\u001b[0m\u001b[0;34m(\u001b[0m\u001b[0mbest_model\u001b[0m\u001b[0;34m,\u001b[0m \u001b[0mtest_loader\u001b[0m\u001b[0;34m,\u001b[0m \u001b[0mcriterion\u001b[0m\u001b[0;34m,\u001b[0m \u001b[0mdevice\u001b[0m\u001b[0;34m,\u001b[0m \u001b[0mthreshold\u001b[0m\u001b[0;34m=\u001b[0m\u001b[0;36m0.5\u001b[0m\u001b[0;34m)\u001b[0m\u001b[0;34m\u001b[0m\u001b[0;34m\u001b[0m\u001b[0m\n\u001b[0m",
            "\u001b[0;32m/tmp/ipython-input-26-3907905302.py\u001b[0m in \u001b[0;36mvalidate\u001b[0;34m(model, val_loader, criterion, device, threshold)\u001b[0m\n\u001b[1;32m      1\u001b[0m \u001b[0;32mdef\u001b[0m \u001b[0mvalidate\u001b[0m\u001b[0;34m(\u001b[0m\u001b[0mmodel\u001b[0m\u001b[0;34m,\u001b[0m \u001b[0mval_loader\u001b[0m\u001b[0;34m,\u001b[0m \u001b[0mcriterion\u001b[0m\u001b[0;34m,\u001b[0m \u001b[0mdevice\u001b[0m\u001b[0;34m,\u001b[0m \u001b[0mthreshold\u001b[0m\u001b[0;34m=\u001b[0m\u001b[0;36m0.5\u001b[0m\u001b[0;34m)\u001b[0m\u001b[0;34m:\u001b[0m\u001b[0;34m\u001b[0m\u001b[0;34m\u001b[0m\u001b[0m\n\u001b[0;32m----> 2\u001b[0;31m     \u001b[0mmodel\u001b[0m\u001b[0;34m.\u001b[0m\u001b[0meval\u001b[0m\u001b[0;34m(\u001b[0m\u001b[0;34m)\u001b[0m\u001b[0;34m\u001b[0m\u001b[0;34m\u001b[0m\u001b[0m\n\u001b[0m\u001b[1;32m      3\u001b[0m     \u001b[0mrunning_loss\u001b[0m \u001b[0;34m=\u001b[0m \u001b[0;36m0.0\u001b[0m\u001b[0;34m\u001b[0m\u001b[0;34m\u001b[0m\u001b[0m\n\u001b[1;32m      4\u001b[0m     \u001b[0mnum_correct_preds\u001b[0m \u001b[0;34m=\u001b[0m \u001b[0;36m0.0\u001b[0m\u001b[0;34m\u001b[0m\u001b[0;34m\u001b[0m\u001b[0m\n\u001b[1;32m      5\u001b[0m     \u001b[0mtotal_preds\u001b[0m \u001b[0;34m=\u001b[0m \u001b[0;36m0.0\u001b[0m\u001b[0;34m\u001b[0m\u001b[0;34m\u001b[0m\u001b[0m\n",
            "\u001b[0;31mAttributeError\u001b[0m: 'collections.OrderedDict' object has no attribute 'eval'"
          ]
        }
      ]
    },
    {
      "cell_type": "code",
      "source": [],
      "metadata": {
        "id": "AWiOvbEgM7C5"
      },
      "execution_count": null,
      "outputs": []
    },
    {
      "cell_type": "code",
      "metadata": {
        "colab": {
          "base_uri": "https://localhost:8080/"
        },
        "id": "d4de1e0e",
        "outputId": "8c54ab18-ef37-4ddb-974d-304bbcff3b2b"
      },
      "source": [
        "# Load the best model state dictionary into a new model instance\n",
        "model.load_state_dict(best_model)\n",
        "\n",
        "test_accuracy, test_loss, test_f1 = validate(model, test_loader, criterion, device, threshold=0.5)\n",
        "\n",
        "print(f'🚀 Test Accuracy: {test_accuracy:.2f}%, Loss: {test_loss:.4f}, F1: {test_f1:.4f}')"
      ],
      "execution_count": 40,
      "outputs": [
        {
          "output_type": "stream",
          "name": "stdout",
          "text": [
            "🚀 Test Accuracy: 81.73%, Loss: 0.7133, F1: 0.7995\n"
          ]
        }
      ]
    },
    {
      "cell_type": "code",
      "source": [],
      "metadata": {
        "id": "CwV669a6RmTN"
      },
      "execution_count": null,
      "outputs": []
    }
  ]
}